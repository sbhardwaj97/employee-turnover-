{
  "nbformat": 4,
  "nbformat_minor": 0,
  "metadata": {
    "colab": {
      "name": "Anvil Deploy",
      "provenance": [],
      "authorship_tag": "ABX9TyNbhewMBB6XQPNDBC175eG5",
      "include_colab_link": true
    },
    "kernelspec": {
      "name": "python3",
      "display_name": "Python 3"
    }
  },
  "cells": [
    {
      "cell_type": "markdown",
      "metadata": {
        "id": "view-in-github",
        "colab_type": "text"
      },
      "source": [
        "<a href=\"https://colab.research.google.com/github/vivekpenuli/employee-turnover-/blob/master/Anvil_Deploy.ipynb\" target=\"_parent\"><img src=\"https://colab.research.google.com/assets/colab-badge.svg\" alt=\"Open In Colab\"/></a>"
      ]
    },
    {
      "cell_type": "code",
      "metadata": {
        "id": "5ek2dcN7Krtq",
        "outputId": "6468f443-3c40-4f9a-a5f7-99e0dc17c739",
        "colab": {
          "base_uri": "https://localhost:8080/"
        }
      },
      "source": [
        "pip install anvil-uplink"
      ],
      "execution_count": 1,
      "outputs": [
        {
          "output_type": "stream",
          "text": [
            "Requirement already satisfied: anvil-uplink in /usr/local/lib/python3.6/dist-packages (0.3.34)\n",
            "Requirement already satisfied: argparse in /usr/local/lib/python3.6/dist-packages (from anvil-uplink) (1.4.0)\n",
            "Requirement already satisfied: future in /usr/local/lib/python3.6/dist-packages (from anvil-uplink) (0.16.0)\n",
            "Requirement already satisfied: six in /usr/local/lib/python3.6/dist-packages (from anvil-uplink) (1.15.0)\n",
            "Requirement already satisfied: ws4py in /usr/local/lib/python3.6/dist-packages (from anvil-uplink) (0.5.1)\n"
          ],
          "name": "stdout"
        }
      ]
    },
    {
      "cell_type": "code",
      "metadata": {
        "id": "Wd7PA2RsNimJ"
      },
      "source": [
        "import pickle\n",
        "with open('vivek_model_pickle_3','rb') as file:\n",
        "    vivek_model_3= pickle.load(file)"
      ],
      "execution_count": 2,
      "outputs": []
    },
    {
      "cell_type": "code",
      "metadata": {
        "id": "hCtNPRVqKyBO",
        "colab": {
          "base_uri": "https://localhost:8080/"
        },
        "outputId": "d4dc8177-e2a9-4d80-955a-7dc3b083d10c"
      },
      "source": [
        "import anvil.server\n",
        "\n",
        "anvil.server.connect(\"KWOQVHGDRYPKCEI3C2YZYVUH-5MBLKQSGXCIBX5I7\")"
      ],
      "execution_count": 3,
      "outputs": [
        {
          "output_type": "stream",
          "text": [
            "Connecting to wss://anvil.works/uplink\n",
            "Anvil websocket open\n",
            "Connected to \"Default environment (dev)\" as SERVER\n"
          ],
          "name": "stdout"
        }
      ]
    },
    {
      "cell_type": "code",
      "metadata": {
        "id": "wpiMcKSAdeve",
        "colab": {
          "base_uri": "https://localhost:8080/"
        },
        "outputId": "919e6e58-1bc6-48dc-c6d5-2ed58f27f702"
      },
      "source": [
        "vivek_model_3.predict([[1.0,0.61,3,188,4,0,0,1,0,0,0,0,0,1,0,0,0]])"
      ],
      "execution_count": 4,
      "outputs": [
        {
          "output_type": "execute_result",
          "data": {
            "text/plain": [
              "array([0])"
            ]
          },
          "metadata": {
            "tags": []
          },
          "execution_count": 4
        }
      ]
    },
    {
      "cell_type": "code",
      "metadata": {
        "id": "fcOvXscdWNtV",
        "colab": {
          "base_uri": "https://localhost:8080/"
        },
        "outputId": "78643686-5a61-4d37-e3b6-c99eb8bc2847"
      },
      "source": [
        "vivek_model_3.predict([[0.10,0.60,6,288,2,0,0,1,0,0,1,0,0,0,0,0,0]])"
      ],
      "execution_count": 5,
      "outputs": [
        {
          "output_type": "execute_result",
          "data": {
            "text/plain": [
              "array([1])"
            ]
          },
          "metadata": {
            "tags": []
          },
          "execution_count": 5
        }
      ]
    },
    {
      "cell_type": "code",
      "metadata": {
        "id": "mFz9aeroHvj3"
      },
      "source": [
        "@anvil.server.callable\n",
        "def get_data(a,b,c,d,e,f,g,h,i):\n",
        "  if ( (int(a) <0.1 or int(a)>1.0) or (int(b)<0.1 or int(b)>1.0 ) or (int(d)<95 or int(d)>350)):\n",
        "    return (\"make sure your input are in range\")\n",
        "  else:\n",
        "    if h==\"technical\" : \n",
        "      score=vivek_model_3.predict([[a,b,int(c),d,int(e),int(f),int(g),int(i),0,0,0,0,0,0,0,0,1]])\n",
        "    elif h==\"RandD\" :\n",
        "      score=vivek_model_3.predict([[a,b,int(c),d,int(e),int(f),int(g),int(i),1,0,0,0,0,0,0,0,0]])\n",
        "    elif h==\"accounting\" :\n",
        "      score=vivek_model_3.predict([[a,b,int(c),d,int(e),int(f),int(g),int(i),0,1,0,0,0,0,0,0,0]])\n",
        "    elif h==\"HR\" :\n",
        "      score=vivek_model_3.predict([[a,b,int(c),d,int(e),int(f),int(g),int(i),0,0,1,0,0,0,0,0,0]])\n",
        "    elif h==\"management\" :\n",
        "      score=vivek_model_3.predict([[a,b,int(c),d,int(e),int(f),int(g),int(i),0,0,0,1,0,0,0,0,0]])\n",
        "    elif h==\"marketing\":\n",
        "      score=vivek_model_3.predict([[a,b,int(c),d,int(e),int(f),int(g),int(i),0,0,0,0,1,0,0,0,0]])\n",
        "    elif h==\"product_mng\":\n",
        "      score=vivek_model_3.predict([[a,b,int(c),d,int(e),int(f),int(g),int(i),0,0,0,0,0,1,0,0,0]])\n",
        "    elif h==\"sales\" :\n",
        "      score=vivek_model_3.predict([[a,b,int(c),d,int(e),int(f),int(g),int(i),0,0,0,0,0,0,1,0,0]])\n",
        "    elif h==\"support\":\n",
        "      score=vivek_model_3.predict([[a,b,int(c),d,int(e),int(f),int(g),int(i),0,0,0,0,0,0,0,1,0]])\n",
        "    elif h==\"IT\":\n",
        "      score=vivek_model_3.predict([[a,b,int(c),d,int(e),int(f),int(g),int(i),0,0,0,0,0,0,0,0,0]])\n",
        "    else:\n",
        "      score=7\n",
        "\n",
        "    result=score\n",
        "    if result==1:\n",
        "      return ('This employee will leave your Company [1]')\n",
        "    elif result==0:\n",
        "      return (\"This employee will not leave your Company [0]\")\n",
        "    elif result==7:\n",
        "      return (\"wrong input\")\n",
        "\n",
        "\n",
        " ## print(f\"Hello from your own machine, {name}!\")\n",
        " # return ('This employee will leave your Company' if score==1 else'This employee will not leave your Company ' )"
      ],
      "execution_count": 10,
      "outputs": []
    }
  ]
}