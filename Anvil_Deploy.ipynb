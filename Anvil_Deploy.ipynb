{
  "nbformat": 4,
  "nbformat_minor": 0,
  "metadata": {
    "colab": {
      "name": "Anvil Deploy",
      "provenance": [],
      "authorship_tag": "ABX9TyNTKJXqfOIEhkvLfdLIYrYm",
      "include_colab_link": true
    },
    "kernelspec": {
      "name": "python3",
      "display_name": "Python 3"
    }
  },
  "cells": [
    {
      "cell_type": "markdown",
      "metadata": {
        "id": "view-in-github",
        "colab_type": "text"
      },
      "source": [
        "<a href=\"https://colab.research.google.com/github/vivekpenuli/employee-turnover-/blob/master/Anvil_Deploy.ipynb\" target=\"_parent\"><img src=\"https://colab.research.google.com/assets/colab-badge.svg\" alt=\"Open In Colab\"/></a>"
      ]
    },
    {
      "cell_type": "code",
      "metadata": {
        "id": "5ek2dcN7Krtq"
      },
      "source": [
        "pip install anvil-uplink"
      ],
      "execution_count": null,
      "outputs": []
    },
    {
      "cell_type": "code",
      "metadata": {
        "id": "Wd7PA2RsNimJ"
      },
      "source": [
        "import pickle\n",
        "with open('vivek_model_pickle_3','rb') as file:\n",
        "    vivek_model_3= pickle.load(file)"
      ],
      "execution_count": 2,
      "outputs": []
    },
    {
      "cell_type": "code",
      "metadata": {
        "id": "hCtNPRVqKyBO",
        "outputId": "c1ed57ff-1f1b-42e0-f4ad-734ab5d722d9",
        "colab": {
          "base_uri": "https://localhost:8080/",
          "height": 68
        }
      },
      "source": [
        "import anvil.server\n",
        "\n",
        "anvil.server.connect(\"KWOQVHGDRYPKCEI3C2YZYVUH-5MBLKQSGXCIBX5I7\")"
      ],
      "execution_count": 3,
      "outputs": [
        {
          "output_type": "stream",
          "text": [
            "Connecting to wss://anvil.works/uplink\n",
            "Anvil websocket open\n",
            "Connected to \"Default environment (dev)\" as SERVER\n"
          ],
          "name": "stdout"
        }
      ]
    },
    {
      "cell_type": "code",
      "metadata": {
        "id": "wpiMcKSAdeve",
        "outputId": "7d448a92-b9e9-4729-d18c-28b10bfd332d",
        "colab": {
          "base_uri": "https://localhost:8080/",
          "height": 34
        }
      },
      "source": [
        "vivek_model_3.predict([[1.0,0.61,3,188,4,0,0,1,0,0,0,0,0,1,0,0,0]])"
      ],
      "execution_count": 25,
      "outputs": [
        {
          "output_type": "execute_result",
          "data": {
            "text/plain": [
              "array([0])"
            ]
          },
          "metadata": {
            "tags": []
          },
          "execution_count": 25
        }
      ]
    },
    {
      "cell_type": "code",
      "metadata": {
        "id": "fcOvXscdWNtV",
        "outputId": "76b836c7-50c3-4c0c-9e21-075eef24d9dd",
        "colab": {
          "base_uri": "https://localhost:8080/",
          "height": 34
        }
      },
      "source": [
        "vivek_model_3.predict([[0.10,0.60,6,288,2,0,0,1,0,0,1,0,0,0,0,0,0]])"
      ],
      "execution_count": 19,
      "outputs": [
        {
          "output_type": "execute_result",
          "data": {
            "text/plain": [
              "array([1])"
            ]
          },
          "metadata": {
            "tags": []
          },
          "execution_count": 19
        }
      ]
    },
    {
      "cell_type": "code",
      "metadata": {
        "id": "mFz9aeroHvj3"
      },
      "source": [
        "@anvil.server.callable\n",
        "def get_data(a,b,c,d,e,f,g,h,i):\n",
        "  if h==\"technical\" :\n",
        "    score=vivek_model_3.predict([[a,b,int(c),d,int(e),int(f),int(g),int(i),0,0,0,0,0,0,0,0,1]])\n",
        "  elif h==\"RandD\" :\n",
        "    score=vivek_model_3.predict([[a,b,int(c),d,int(e),int(f),int(g),int(i),1,0,0,0,0,0,0,0,0]])\n",
        "  elif h==\"accounting\" :\n",
        "    score=vivek_model_3.predict([[a,b,int(c),d,int(e),int(f),int(g),int(i),0,1,0,0,0,0,0,0,0]])\n",
        "  elif h==\"HR\" :\n",
        "    score=vivek_model_3.predict([[a,b,int(c),d,int(e),int(f),int(g),int(i),0,0,1,0,0,0,0,0,0]])\n",
        "  elif h==\"management\" :\n",
        "    score=vivek_model_3.predict([[a,b,int(c),d,int(e),int(f),int(g),int(i),0,0,0,1,0,0,0,0,0]])\n",
        "  elif h==\"marketing\":\n",
        "    score=vivek_model_3.predict([[a,b,int(c),d,int(e),int(f),int(g),int(i),0,0,0,0,1,0,0,0,0]])\n",
        "  elif h==\"product_mng\":\n",
        "    score=vivek_model_3.predict([[a,b,int(c),d,int(e),int(f),int(g),int(i),0,0,0,0,0,1,0,0,0]])\n",
        "  elif h==\"sales\" :\n",
        "    score=vivek_model_3.predict([[a,b,int(c),d,int(e),int(f),int(g),int(i),0,0,0,0,0,0,1,0,0]])\n",
        "  elif h==\"support\":\n",
        "    score=vivek_model_3.predict([[a,b,int(c),d,int(e),int(f),int(g),int(i),0,0,0,0,0,0,0,1,0]])\n",
        "  elif h==\"IT\":\n",
        "    score=vivek_model_3.predict([[a,b,int(c),d,int(e),int(f),int(g),int(i),0,0,0,0,0,0,0,0,0]])\n",
        "  else:\n",
        "    score=7\n",
        "  result=score\n",
        "  if result==1:\n",
        "    return ('This employee will leave your Company [1]')\n",
        "  elif result==0:\n",
        "    return (\"This employee will not leave your Company [0]\")\n",
        "  elif result==7:\n",
        "    return (\"wrong input\")\n",
        "\n",
        "\n",
        " ## print(f\"Hello from your own machine, {name}!\")\n",
        " # return ('This employee will leave your Company' if score==1 else'This employee will not leave your Company ' )"
      ],
      "execution_count": 36,
      "outputs": []
    }
  ]
}